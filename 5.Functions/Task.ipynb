{
 "cells": [
  {
   "cell_type": "markdown",
   "metadata": {},
   "source": [
    "# Задача\n",
    "\n",
    "Вы работаете секретарем и вам постоянно приходят различные документы. Вы должны быть очень внимательны, чтобы не потерять ни один документ. Каталог документов хранится в следующем виде:"
   ]
  },
  {
   "cell_type": "code",
   "execution_count": 88,
   "metadata": {},
   "outputs": [],
   "source": [
    "\n",
    "documents = [\n",
    "    {'type': 'passport', 'number': '2207 876234', 'name': 'Василий Гупкин'},\n",
    "    {'type': 'invoice', 'number': '11-2', 'name': 'Геннадий Покемонов'},\n",
    "    {'type': 'insurance', 'number': '10006', 'name': 'Аристарх Павлов'}\n",
    "]"
   ]
  },
  {
   "cell_type": "markdown",
   "metadata": {},
   "source": [
    "Перечень полок, на которых находятся документы хранится в следующем виде:"
   ]
  },
  {
   "cell_type": "code",
   "execution_count": 89,
   "metadata": {},
   "outputs": [],
   "source": [
    "\n",
    "directories = {\n",
    "    '1': ['2207 876234', '11-2'],\n",
    "    '2': ['10006'],\n",
    "    '3': []\n",
    "}"
   ]
  },
  {
   "cell_type": "markdown",
   "metadata": {},
   "source": [
    "Необходимо реализовать пользовательские команды (внимание! это не название функций, которые должны быть выразительными, а команды, которые вводит пользователь, чтобы получить необходимый результат):\n",
    "\n",
    "- p – people – команда, которая спросит номер документа и выведет имя человека, которому он принадлежит;\n",
    "- s – shelf – команда, которая спросит номер документа и выведет номер полки, на которой он находится   \n",
    "*Правильно обработайте ситуации, когда пользователь будет вводить несуществующий документ.*\n",
    "- l – list – команда, которая выведет список всех документов в формате  \n",
    "**passport \"2207 876234\" \"Василий Гупкин\"**\n",
    "- as – add shelf – команда, которая спросит номер новой полки и добавит ее в перечень.  \n",
    "*Предусмотрите случай, когда пользователь добавляет полку, которая уже существует.*\n",
    "- d – delete – команда, которая спросит номер документа и удалит его из каталога и из перечня полок.*  \n",
    "*Предусмотрите сценарий, когда пользователь вводит несуществующий документ;*\n",
    "- m – move – команда, которая спросит номер документа и целевую полку и переместит его с текущей полки на целевую.  \n",
    "*Корректно обработайте кейсы, когда пользователь пытается переместить несуществующий документ или переместить документ на несуществующую полку;*\n",
    "- a – add – команда, которая добавит новый документ в каталог и в перечень полок, спросив его номер, тип, имя владельца и номер полки, на котором он будет храниться.  \n",
    "*Корректно обработайте ситуацию, когда пользователь будет пытаться добавить документ на несуществующую полку.*"
   ]
  },
  {
   "cell_type": "markdown",
   "metadata": {},
   "source": [
    "## Решение:"
   ]
  },
  {
   "cell_type": "code",
   "execution_count": 3,
   "metadata": {},
   "outputs": [],
   "source": [
    "def is_exist(doc_num):\n",
    "    flg = False\n",
    "    for raw in documents:\n",
    "        if raw.get('number','') == doc_num:\n",
    "            flg = True\n",
    "            break\n",
    "    return flg"
   ]
  },
  {
   "cell_type": "code",
   "execution_count": 4,
   "metadata": {},
   "outputs": [],
   "source": [
    "def find_name_by_doc(doc_num):\n",
    "    if not is_exist(doc_num):\n",
    "        return('Выбранного документа нет в базе')\n",
    "    else:\n",
    "        for raw in documents:\n",
    "            if raw.get('number') == doc_num:\n",
    "                find_name = raw.get(\"name\",\"Имя не указано\")\n",
    "                break\n",
    "        return(find_name)"
   ]
  },
  {
   "cell_type": "code",
   "execution_count": 5,
   "metadata": {},
   "outputs": [],
   "source": [
    "def find_shelf_by_doc(doc_num):\n",
    "    if not is_exist(doc_num):\n",
    "        return('Выбранного документа нет в базе')\n",
    "    else:\n",
    "        for raw in directories:\n",
    "            if doc_num in directories[raw]:\n",
    "                find_shelf = raw\n",
    "                break\n",
    "        return(find_shelf)"
   ]
  },
  {
   "cell_type": "code",
   "execution_count": 6,
   "metadata": {},
   "outputs": [],
   "source": [
    "def print_doc_list():\n",
    "    for raw in documents:\n",
    "        for value in raw.values():\n",
    "            print(value,end=' ')\n",
    "        print()"
   ]
  },
  {
   "cell_type": "code",
   "execution_count": 7,
   "metadata": {},
   "outputs": [],
   "source": [
    "def create_new_shelf(label):\n",
    "    is_exist = 0\n",
    "    for raw in directories:\n",
    "        if label == raw:\n",
    "            print(f'Полка с именем {label} уже существует')          \n",
    "            print()\n",
    "            is_exist = 1\n",
    "            break\n",
    "    if not is_exist:\n",
    "        directories[label] = []\n",
    "        print(f'Полка с именем {label} успешно создана')\n",
    "        print()"
   ]
  },
  {
   "cell_type": "code",
   "execution_count": 37,
   "metadata": {},
   "outputs": [],
   "source": [
    "def delete_doc(doc_num):\n",
    "    if not is_exist(doc_num):\n",
    "        return('Выбранного документа нет в базе')\n",
    "    else:\n",
    "        need_shelf = find_shelf_by_doc(doc_num)\n",
    "        for i,raw in enumerate(documents):\n",
    "            if raw.get('number') == doc_num:\n",
    "                del(documents[i])\n",
    "                break\n",
    "        for j,temp_doc in enumerate(directories[need_shelf]):\n",
    "            if temp_doc == doc_num:\n",
    "                del(directories[need_shelf][j])\n",
    "                break\n",
    "        return(f'Документ с номером {doc_num} успешно удалён')"
   ]
  },
  {
   "cell_type": "code",
   "execution_count": 54,
   "metadata": {},
   "outputs": [],
   "source": [
    "def replace_doc(doc_num,shelf):\n",
    "    if(shelf) not in list(directories.keys()):\n",
    "        return(f'Полки с названием {shelf} не существует')\n",
    "    elif shelf == find_shelf_by_doc(doc_num):\n",
    "        return(f'Документ {doc_num} уже находится на полке {shelf}')\n",
    "    else:\n",
    "        for j,temp_doc in enumerate(directories[find_shelf_by_doc(doc_num)]):\n",
    "            if temp_doc == doc_num:\n",
    "                del(directories[find_shelf_by_doc(doc_num)][j])\n",
    "                break\n",
    "        directories[shelf].append(doc_num)\n",
    "        return(f'Документ {doc_num} успешно перемещён на полку {shelf}')"
   ]
  },
  {
   "cell_type": "code",
   "execution_count": 78,
   "metadata": {},
   "outputs": [],
   "source": [
    "def new_doc(doc_num, doc_type, doc_holder, shelf):\n",
    "    if(shelf) not in list(directories.keys()):\n",
    "        return(f'Полки с названием {shelf} не существует')\n",
    "    else:\n",
    "        new_dict = {}\n",
    "        new_dict['type'] = doc_type\n",
    "        new_dict['number'] = doc_num\n",
    "        new_dict['name'] = doc_holder\n",
    "        documents.append(new_dict)\n",
    "        directories[shelf].append(doc_num)\n",
    "        return(f'Новый документ успешно создан и хранится на полке {shelf}')"
   ]
  },
  {
   "cell_type": "code",
   "execution_count": 91,
   "metadata": {},
   "outputs": [],
   "source": [
    "def main():\n",
    "    print('Доступный список команд:')\n",
    "    print('p - поиск человека по номеру документа')\n",
    "    print('s - поиск полки по номеру документа')\n",
    "    print('l - вывод имеющегося списка документов')\n",
    "    print('as - создание новой полки')\n",
    "    print('d - удаление документа')\n",
    "    print('m - перемещение документа на другую полку')\n",
    "    print('a - добавление нового документа')\n",
    "    print()\n",
    "    while True:\n",
    "        user_input = input('Введите команду:  ')\n",
    "        print()\n",
    "        if user_input == 'p':\n",
    "            print('Вы выбрали поиск человека по номеру документа')\n",
    "            new_input = input('Введите номер документа:  ')\n",
    "            print()\n",
    "            print(find_name_by_doc(new_input))\n",
    "            print()\n",
    "        elif user_input == 's':\n",
    "            print('Вы выбрали поиск полки по номеру документа')\n",
    "            new_input = input('Введите номер документа:  ')\n",
    "            print()\n",
    "            print(find_shelf_by_doc(new_input))\n",
    "        elif user_input == 'l':\n",
    "            print('Вы выбрали вывод списка документов')\n",
    "            print()\n",
    "            print_doc_list()\n",
    "        elif user_input == 'as':\n",
    "            print('Вы выбрали создание новой полки')\n",
    "            new_input = input('Введите название новой для полки:  ')\n",
    "            print()\n",
    "            create_new_shelf(new_input)\n",
    "        elif user_input == 'd':\n",
    "            print('Вы выбрали удаление документа')\n",
    "            new_input = input('Введите номер документа:  ')\n",
    "            print()\n",
    "            print(delete_doc(new_input))\n",
    "            print()\n",
    "        elif user_input == 'm':\n",
    "            print('Вы выбрали перемещение документа на другую полку')\n",
    "            new_input1 = input('Введите номер документа:  ')\n",
    "            print()\n",
    "            if not is_exist(new_input1):\n",
    "                print('Выбранного документа нет в базе')\n",
    "                print()\n",
    "            else:\n",
    "                new_input2 = input('Введите номер полки, на которую стоит переместить документ:  ')\n",
    "                print()\n",
    "                print(replace_doc(new_input1, new_input2))\n",
    "                print()\n",
    "        elif user_input == 'a':\n",
    "            print('Вы выбрали создание нового документа')\n",
    "            new_input1 = input('Введите номер документа:  ')\n",
    "            print()\n",
    "            if is_exist(new_input1):\n",
    "                print('Документ с таким номером уже существует')\n",
    "                continue\n",
    "            new_input2 = input('Введите тип документа:  ')\n",
    "            print()\n",
    "            new_input3 = input('Введите имя владельца документа:  ')\n",
    "            print()\n",
    "            new_input4 = input('Введите полку, на которую стоит поместить документ:  ')\n",
    "            print()\n",
    "            print(new_doc(new_input1, new_input2, new_input3, new_input4))\n",
    "            print()\n",
    "        elif user_input == 'q':\n",
    "            print('Всего доброго!')\n",
    "            break\n",
    "        else:\n",
    "            print('Введена некорректная команда')"
   ]
  },
  {
   "cell_type": "markdown",
   "metadata": {},
   "source": [
    "## Пользовательский интерфейс"
   ]
  },
  {
   "cell_type": "code",
   "execution_count": 92,
   "metadata": {},
   "outputs": [
    {
     "name": "stdout",
     "output_type": "stream",
     "text": [
      "Доступный список команд:\n",
      "p - поиск человека по номеру документа\n",
      "s - поиск полки по номеру документа\n",
      "l - вывод имеющегося списка документов\n",
      "as - создание новой полки\n",
      "d - удаление документа\n",
      "m - перемещение документа на другую полку\n",
      "a - добавление нового документа\n",
      "\n",
      "Введите команду:  q\n",
      "\n",
      "Всего доброго!\n"
     ]
    }
   ],
   "source": [
    "main()"
   ]
  }
 ],
 "metadata": {
  "kernelspec": {
   "display_name": "Python 3",
   "language": "python",
   "name": "python3"
  },
  "language_info": {
   "codemirror_mode": {
    "name": "ipython",
    "version": 3
   },
   "file_extension": ".py",
   "mimetype": "text/x-python",
   "name": "python",
   "nbconvert_exporter": "python",
   "pygments_lexer": "ipython3",
   "version": "3.7.6"
  }
 },
 "nbformat": 4,
 "nbformat_minor": 4
}
