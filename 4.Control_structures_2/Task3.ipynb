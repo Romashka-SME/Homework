{
 "cells": [
  {
   "cell_type": "markdown",
   "metadata": {},
   "source": [
    "# Задание 3. \n",
    "Дан список поисковых запросов. Получить распределение количества слов в них. Т. е. поисковых запросов из одного - слова 5%, из двух - 7%, из трех - 3% и т.д."
   ]
  },
  {
   "cell_type": "code",
   "execution_count": 1,
   "metadata": {},
   "outputs": [],
   "source": [
    "queries = [\n",
    "    'смотреть сериалы онлайн',\n",
    "    'новости спорта',\n",
    "    'афиша кино',\n",
    "    'курс доллара',\n",
    "    'сериалы этим летом',\n",
    "    'курс по питону',\n",
    "    'сериалы про спорт',\n",
    "]"
   ]
  },
  {
   "cell_type": "markdown",
   "metadata": {},
   "source": [
    "## Решение:"
   ]
  },
  {
   "cell_type": "code",
   "execution_count": 35,
   "metadata": {},
   "outputs": [
    {
     "name": "stdout",
     "output_type": "stream",
     "text": [
      "{3: 4, 2: 3}\n"
     ]
    }
   ],
   "source": [
    "new_dict = {}\n",
    "for i in queries:\n",
    "    if len(i.split(' ')) not in new_dict:\n",
    "        new_dict[len(i.split(' '))]=1\n",
    "    else:\n",
    "        new_dict[len(i.split(' '))]+=1\n",
    "print(new_dict)"
   ]
  },
  {
   "cell_type": "code",
   "execution_count": 45,
   "metadata": {},
   "outputs": [
    {
     "name": "stdout",
     "output_type": "stream",
     "text": [
      "Поисковых запросов из 2 слов - 42.86% от общего числа\n",
      "Поисковых запросов из 3 слов - 57.14% от общего числа\n"
     ]
    }
   ],
   "source": [
    "for i in range(1,max(list(new_dict.keys()))+1):\n",
    "    if i in list(new_dict.keys()):\n",
    "        print(f'Поисковых запросов из {i} слов - {round(100*new_dict[i]/len(queries),2)}% от общего числа')"
   ]
  },
  {
   "cell_type": "code",
   "execution_count": 46,
   "metadata": {},
   "outputs": [],
   "source": [
    "# Я понимаю, что вместо range можно было сделать цикл просто по ключам, но хотелось отсортировать вывод по возрастанию длины.\n",
    "# Был ещё вариант с созданием нового словаря, но отсортированного.\n",
    "# Если есть способ отсортировать словарь по ключам, не создавая нового, хотелось бы о нём узнать."
   ]
  }
 ],
 "metadata": {
  "kernelspec": {
   "display_name": "Python 3",
   "language": "python",
   "name": "python3"
  },
  "language_info": {
   "codemirror_mode": {
    "name": "ipython",
    "version": 3
   },
   "file_extension": ".py",
   "mimetype": "text/x-python",
   "name": "python",
   "nbconvert_exporter": "python",
   "pygments_lexer": "ipython3",
   "version": "3.7.6"
  }
 },
 "nbformat": 4,
 "nbformat_minor": 4
}
