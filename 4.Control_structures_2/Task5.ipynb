{
 "cells": [
  {
   "cell_type": "markdown",
   "metadata": {},
   "source": [
    "# Задание 5. \n",
    "Напишите код для преобразования произвольного списка вида ['2018-01-01', 'yandex', 'cpc', 100] (он может быть любой длины) в словарь {'2018-01-01': {'yandex': {'cpc': 100}}}"
   ]
  },
  {
   "cell_type": "markdown",
   "metadata": {},
   "source": [
    "## Ввод списка:"
   ]
  },
  {
   "cell_type": "code",
   "execution_count": 40,
   "metadata": {},
   "outputs": [],
   "source": [
    "my_list =  ['2018-01-01', 'yandex', 'cpc', 100, 'very', 'difficult', 'task']"
   ]
  },
  {
   "cell_type": "markdown",
   "metadata": {},
   "source": [
    "## Решение:"
   ]
  },
  {
   "cell_type": "code",
   "execution_count": 42,
   "metadata": {},
   "outputs": [
    {
     "name": "stdout",
     "output_type": "stream",
     "text": [
      "{'2018-01-01': {'yandex': {'cpc': {100: {'very': {'difficult': 'task'}}}}}}\n"
     ]
    }
   ],
   "source": [
    "curr_dict = {}\n",
    "curr_list = []\n",
    "\n",
    "for i in range(len(my_list)-1,-1,-1):\n",
    "    temp_list = []\n",
    "    temp_list.append(my_list[i])\n",
    "    if i == len(my_list) - 1:\n",
    "        curr_list.append(my_list[i])\n",
    "        continue\n",
    "    elif i == len(my_list)-2:\n",
    "        curr_dict = dict(zip(temp_list,curr_list))\n",
    "        continue\n",
    "    else:\n",
    "        curr_list = []\n",
    "        curr_list.append(curr_dict)\n",
    "        curr_dict = {}\n",
    "        curr_dict = dict(zip(temp_list,curr_list))\n",
    "\n",
    "print(curr_dict)\n",
    "    \n",
    "    "
   ]
  }
 ],
 "metadata": {
  "kernelspec": {
   "display_name": "Python 3",
   "language": "python",
   "name": "python3"
  },
  "language_info": {
   "codemirror_mode": {
    "name": "ipython",
    "version": 3
   },
   "file_extension": ".py",
   "mimetype": "text/x-python",
   "name": "python",
   "nbconvert_exporter": "python",
   "pygments_lexer": "ipython3",
   "version": "3.7.6"
  }
 },
 "nbformat": 4,
 "nbformat_minor": 4
}
