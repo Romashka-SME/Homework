{
 "cells": [
  {
   "cell_type": "markdown",
   "metadata": {},
   "source": [
    "# Задание 3.\n",
    "\n",
    "Разработать приложение для определения знака зодиака по дате рождения."
   ]
  },
  {
   "cell_type": "markdown",
   "metadata": {},
   "source": [
    "## Ввод данных:"
   ]
  },
  {
   "cell_type": "markdown",
   "metadata": {},
   "source": [
    "**Введите месяц рождения в текстовом формате**\n",
    "(пример - март)"
   ]
  },
  {
   "cell_type": "code",
   "execution_count": 68,
   "metadata": {},
   "outputs": [],
   "source": [
    "birth_month = 'Сентябрь'"
   ]
  },
  {
   "cell_type": "markdown",
   "metadata": {},
   "source": [
    "**Введите число рождения** (пример - 16)"
   ]
  },
  {
   "cell_type": "code",
   "execution_count": 69,
   "metadata": {},
   "outputs": [],
   "source": [
    "birth_num = 19"
   ]
  },
  {
   "cell_type": "markdown",
   "metadata": {},
   "source": [
    "## Решение:"
   ]
  },
  {
   "cell_type": "code",
   "execution_count": 70,
   "metadata": {},
   "outputs": [],
   "source": [
    "error_code = ''"
   ]
  },
  {
   "cell_type": "code",
   "execution_count": 71,
   "metadata": {},
   "outputs": [],
   "source": [
    "if not isinstance(birth_month,str):\n",
    "    error_code='Месяц рождения должен быть в текстовом формате'"
   ]
  },
  {
   "cell_type": "code",
   "execution_count": 72,
   "metadata": {},
   "outputs": [],
   "source": [
    "if not isinstance(birth_num,int):\n",
    "    error_code='Число рождения должно быть целым числом'"
   ]
  },
  {
   "cell_type": "code",
   "execution_count": 73,
   "metadata": {},
   "outputs": [],
   "source": [
    "if birth_month.lower() not in ('январь', 'февраль', 'март', 'апрель', 'май', 'июнь', 'июль', 'август', 'сентябрь', 'октябрь', 'ноябрь', 'декабрь'):\n",
    "    error_code = 'Введён некорректный месяц рождения'\n"
   ]
  },
  {
   "cell_type": "code",
   "execution_count": 74,
   "metadata": {},
   "outputs": [],
   "source": [
    "if not 1<=birth_num<=31:\n",
    "    error_code = 'Число рождения должно быть от 1 до 31'\n",
    "elif birth_month.lower() == 'февраль' and birth_num > 29:\n",
    "    error_code = 'Месяц февраль состоит максимум из 29 дней'\n",
    "elif birth_month.lower() in ('май', 'июнь', 'сентябрь', 'ноябрь') and birth_num >30:\n",
    "    error_code = 'Месяц '+ birth_month.lower() + ' состоит из 30 дней'\n"
   ]
  },
  {
   "cell_type": "code",
   "execution_count": 75,
   "metadata": {},
   "outputs": [],
   "source": [
    "if birth_month.lower() == 'декабрь' and birth_num>=22 or birth_month.lower() == 'январь' and birth_num<=19:\n",
    "    sign = 'Козерог'\n",
    "if birth_month.lower() == 'январь' and birth_num>=20 or birth_month.lower() == 'февраль' and birth_num<=18:\n",
    "    sign = 'Водолей'\n",
    "if birth_month.lower() == 'февраль' and birth_num>=19 or birth_month.lower() == 'март' and birth_num<=20:\n",
    "    sign = 'Рыбы'\n",
    "if birth_month.lower() == 'март' and birth_num>=21 or birth_month.lower() == 'апрель' and birth_num<=20:\n",
    "    sign = 'Овен'\n",
    "if birth_month.lower() == 'апрель' and birth_num>=21 or birth_month.lower() == 'май' and birth_num<=20:\n",
    "    sign = 'Телец'\n",
    "if birth_month.lower() == 'май' and birth_num>=21 or birth_month.lower() == 'июнь' and birth_num<=20:\n",
    "    sign = 'Близнецы'\n",
    "if birth_month.lower() == 'июнь' and birth_num>=21 or birth_month.lower() == 'июль' and birth_num<=22:\n",
    "    sign = 'Рак'\n",
    "if birth_month.lower() == 'июль' and birth_num>=23 or birth_month.lower() == 'август' and birth_num<=22:\n",
    "    sign = 'Лев'\n",
    "if birth_month.lower() == 'август' and birth_num>=23 or birth_month.lower() == 'сентябрь' and birth_num<=23:\n",
    "    sign = 'Дева'\n",
    "if birth_month.lower() == 'сентябрь' and birth_num>=24 or birth_month.lower() == 'октябрь' and birth_num<=23:\n",
    "    sign = 'Весы'\n",
    "if birth_month.lower() == 'октябрь' and birth_num>=24 or birth_month.lower() == 'ноябрь' and birth_num<=21:\n",
    "    sign = 'Скорпион'\n",
    "if birth_month.lower() == 'ноябрь' and birth_num>=22 or birth_month.lower() == 'декабрь' and birth_num<=21:\n",
    "    sign = 'Дева'"
   ]
  },
  {
   "cell_type": "markdown",
   "metadata": {},
   "source": [
    "## Ответ:"
   ]
  },
  {
   "cell_type": "code",
   "execution_count": 76,
   "metadata": {},
   "outputs": [
    {
     "name": "stdout",
     "output_type": "stream",
     "text": [
      "Дева\n"
     ]
    }
   ],
   "source": [
    "if not error_code:\n",
    "    print(sign)\n",
    "else:\n",
    "    print(error_code)"
   ]
  }
 ],
 "metadata": {
  "kernelspec": {
   "display_name": "Python 3",
   "language": "python",
   "name": "python3"
  },
  "language_info": {
   "codemirror_mode": {
    "name": "ipython",
    "version": 3
   },
   "file_extension": ".py",
   "mimetype": "text/x-python",
   "name": "python",
   "nbconvert_exporter": "python",
   "pygments_lexer": "ipython3",
   "version": "3.7.6"
  }
 },
 "nbformat": 4,
 "nbformat_minor": 4
}
